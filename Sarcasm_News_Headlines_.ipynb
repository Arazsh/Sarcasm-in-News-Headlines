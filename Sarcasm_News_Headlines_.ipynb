{
  "nbformat": 4,
  "nbformat_minor": 0,
  "metadata": {
    "colab": {
      "name": "Sarcasm-News-Headlines-.ipynb",
      "provenance": [],
      "collapsed_sections": [],
      "toc_visible": true,
      "include_colab_link": true
    },
    "kernelspec": {
      "display_name": "Python 3",
      "name": "python3"
    },
    "accelerator": "GPU"
  },
  "cells": [
    {
      "cell_type": "markdown",
      "metadata": {
        "id": "view-in-github",
        "colab_type": "text"
      },
      "source": [
        "<a href=\"https://colab.research.google.com/github/Arazsh/Sarcasm-in-News-Headlines/blob/main/Sarcasm_News_Headlines_.ipynb\" target=\"_parent\"><img src=\"https://colab.research.google.com/assets/colab-badge.svg\" alt=\"Open In Colab\"/></a>"
      ]
    },
    {
      "cell_type": "code",
      "metadata": {
        "id": "IOOzuTmnehdF"
      },
      "source": [
        "import json\n",
        "import tensorflow as tf\n",
        "import random\n",
        "import numpy as np\n",
        "from tensorflow.keras.preprocessing.text import Tokenizer\n",
        "from tensorflow.keras.preprocessing.sequence import pad_sequences\n",
        "from tensorflow.keras.utils import to_categorical\n",
        "from tensorflow.keras import regularizers\n",
        "from tensorflow.keras.layers import Embedding, LSTM, Dense, Dropout, Bidirectional, Conv1D, MaxPooling1D, BatchNormalization, ReLU, GRU"
      ],
      "execution_count": 7,
      "outputs": []
    },
    {
      "cell_type": "code",
      "metadata": {
        "id": "OkaBMeNDwMel",
        "outputId": "e648ac2d-2662-4229-8c9c-60b588c6a189",
        "colab": {
          "base_uri": "https://localhost:8080/",
          "height": 218
        }
      },
      "source": [
        "#Downloading the News Headlines Dataset For Sarcasm Detection, using the direct link provided by Laurence Moroney.\n",
        "!wget --no-check-certificate \\\n",
        "    https://storage.googleapis.com/laurencemoroney-blog.appspot.com/sarcasm.json \\\n",
        "    -O /tmp/sarcasm.json\n",
        "  \n",
        "\n",
        "\n",
        "with open(\"/tmp/sarcasm.json\", 'r') as f:\n",
        "    datastore = json.load(f)\n",
        "\n",
        "#Extracting the news headlines as sentences and the labels. 1 if the record is sarcastic otherwise 0\n",
        "sentences = [] \n",
        "labels = []\n",
        "urls = []\n",
        "for item in datastore:\n",
        "    sentences.append(item['headline'])\n",
        "    labels.append(item['is_sarcastic'])\n",
        "    urls.append(item['article_link'])\n",
        "\n",
        "data_size = len(sentences)\n",
        "print(data_size)\n"
      ],
      "execution_count": 8,
      "outputs": [
        {
          "output_type": "stream",
          "text": [
            "--2020-10-22 01:01:07--  https://storage.googleapis.com/laurencemoroney-blog.appspot.com/sarcasm.json\n",
            "Resolving storage.googleapis.com (storage.googleapis.com)... 142.250.73.208, 172.253.63.128, 172.217.7.144, ...\n",
            "Connecting to storage.googleapis.com (storage.googleapis.com)|142.250.73.208|:443... connected.\n",
            "HTTP request sent, awaiting response... 200 OK\n",
            "Length: 5643545 (5.4M) [application/json]\n",
            "Saving to: ‘/tmp/sarcasm.json’\n",
            "\n",
            "\r/tmp/sarcasm.json     0%[                    ]       0  --.-KB/s               \r/tmp/sarcasm.json   100%[===================>]   5.38M  --.-KB/s    in 0.02s   \n",
            "\n",
            "2020-10-22 01:01:07 (229 MB/s) - ‘/tmp/sarcasm.json’ saved [5643545/5643545]\n",
            "\n",
            "26709\n"
          ],
          "name": "stdout"
        }
      ]
    },
    {
      "cell_type": "code",
      "metadata": {
        "id": "D9Nf0SDKY-Rf",
        "outputId": "05fca03d-d10c-4800-de8b-9f0b68158797",
        "colab": {
          "base_uri": "https://localhost:8080/",
          "height": 134
        }
      },
      "source": [
        "#Tokenizing the 26709 sentences in the dataset\n",
        "tokenizer = Tokenizer()\n",
        "tokenizer.fit_on_texts(sentences)\n",
        "\n",
        "word_index = tokenizer.word_index\n",
        "#The number of unique words in the data\n",
        "vocab_size = len(word_index)\n",
        "print(vocab_size)\n",
        "#print(word_index)\n",
        "#40 is the max length of sentences. The smaller sentences are zero padded.\n",
        "sequences = tokenizer.texts_to_sequences(sentences)\n",
        "padded = pad_sequences(sequences, padding='post')\n",
        "#Displaying an example padded sequence\n",
        "print(padded[2])\n",
        "print(padded.shape)\n",
        "\n",
        "#Dividing the data into train and validation\n",
        "test_portion = 0.2\n",
        "split = int(test_portion * data_size)\n",
        "\n",
        "test_sequences = padded[0:split]\n",
        "training_sequences = padded[split:]\n",
        "test_labels = labels[0:split]\n",
        "training_labels = labels[split:]\n",
        "\n",
        "print(len(test_sequences), len(training_sequences), len(test_labels), len(training_labels))"
      ],
      "execution_count": 9,
      "outputs": [
        {
          "output_type": "stream",
          "text": [
            "29656\n",
            "[  144   837     1   906  1748  2092   581  4718   220   142    38    45\n",
            "     1 10735     0     0     0     0     0     0     0     0     0     0\n",
            "     0     0     0     0     0     0     0     0     0     0     0     0\n",
            "     0     0     0     0]\n",
            "(26709, 40)\n",
            "5341 21368 5341 21368\n"
          ],
          "name": "stdout"
        }
      ]
    },
    {
      "cell_type": "code",
      "metadata": {
        "id": "08UnZuoIpt8i",
        "outputId": "97347146-621c-48c0-ac04-46a0a0bd5f36",
        "colab": {
          "base_uri": "https://localhost:8080/",
          "height": 218
        }
      },
      "source": [
        "#Downloading the 100 dimension version Global Vectors for Word Representation. The direct link is provided by Laurence Moroney.\n",
        "!wget --no-check-certificate \\\n",
        "    https://storage.googleapis.com/laurencemoroney-blog.appspot.com/glove.6B.100d.txt \\\n",
        "    -O /tmp/glove.6B.100d.txt\n",
        "embeddings_index = {};\n",
        "with open('/tmp/glove.6B.100d.txt') as f:\n",
        "    for line in f:\n",
        "        values = line.split();\n",
        "        word = values[0];\n",
        "        coefs = np.asarray(values[1:], dtype='float32');\n",
        "        embeddings_index[word] = coefs;\n",
        "print(len(embeddings_index))\n",
        "embeddings_matrix = np.zeros((vocab_size+1, 100));\n",
        "for word, i in word_index.items():\n",
        "    embedding_vector = embeddings_index.get(word);\n",
        "    if embedding_vector is not None:\n",
        "        embeddings_matrix[i] = embedding_vector;"
      ],
      "execution_count": 10,
      "outputs": [
        {
          "output_type": "stream",
          "text": [
            "--2020-10-22 01:01:21--  https://storage.googleapis.com/laurencemoroney-blog.appspot.com/glove.6B.100d.txt\n",
            "Resolving storage.googleapis.com (storage.googleapis.com)... 172.217.9.208, 172.217.15.80, 172.217.164.176, ...\n",
            "Connecting to storage.googleapis.com (storage.googleapis.com)|172.217.9.208|:443... connected.\n",
            "HTTP request sent, awaiting response... 200 OK\n",
            "Length: 347116733 (331M) [text/plain]\n",
            "Saving to: ‘/tmp/glove.6B.100d.txt’\n",
            "\n",
            "/tmp/glove.6B.100d. 100%[===================>] 331.04M   193MB/s    in 1.7s    \n",
            "\n",
            "2020-10-22 01:01:22 (193 MB/s) - ‘/tmp/glove.6B.100d.txt’ saved [347116733/347116733]\n",
            "\n",
            "400000\n"
          ],
          "name": "stdout"
        }
      ]
    },
    {
      "cell_type": "code",
      "metadata": {
        "id": "LmaOW0BPymPU",
        "outputId": "3851ab80-af6b-4503-8d0e-74580b860dab",
        "colab": {
          "base_uri": "https://localhost:8080/",
          "height": 991
        }
      },
      "source": [
        "#Building and compiling the model\n",
        "model = tf.keras.Sequential([\n",
        "    Embedding(vocab_size+1, 100, input_length=40, weights=[embeddings_matrix], trainable=False),\n",
        "    Conv1D(512, 5, strides=1, padding=\"causal\"),\n",
        "    BatchNormalization(),\n",
        "    ReLU(),\n",
        "    Conv1D(512, 5, strides=1, padding=\"causal\"),\n",
        "    BatchNormalization(),\n",
        "    ReLU(),\n",
        "    MaxPooling1D(pool_size=2),\n",
        "    Conv1D(256, 5, strides=1, padding=\"causal\"),\n",
        "    BatchNormalization(),\n",
        "    ReLU(),\n",
        "    Conv1D(256, 5, strides=1, padding=\"causal\"),\n",
        "    BatchNormalization(),\n",
        "    ReLU(),\n",
        "    MaxPooling1D(pool_size=2),\n",
        "    GRU(256, return_sequences = True),\n",
        "    Dropout(0.1),\n",
        "    GRU(128),\n",
        "    Dropout(0.2),\n",
        "    Dense(256, activation='relu'),\n",
        "    Dropout(0.5),\n",
        "    Dense(128, activation= 'relu'),\n",
        "    Dropout(0.5),\n",
        "    Dense(64, activation= 'relu', kernel_regularizer=regularizers.l2(0.01)),\n",
        "    Dense(1, activation='sigmoid')\n",
        "])\n",
        "model.compile(loss='binary_crossentropy',optimizer=tf.keras.optimizers.Adam(1e-4) ,metrics=['accuracy'])\n",
        "model.summary()"
      ],
      "execution_count": 11,
      "outputs": [
        {
          "output_type": "stream",
          "text": [
            "Model: \"sequential_1\"\n",
            "_________________________________________________________________\n",
            "Layer (type)                 Output Shape              Param #   \n",
            "=================================================================\n",
            "embedding_1 (Embedding)      (None, 40, 100)           2965700   \n",
            "_________________________________________________________________\n",
            "conv1d_4 (Conv1D)            (None, 40, 512)           256512    \n",
            "_________________________________________________________________\n",
            "batch_normalization_4 (Batch (None, 40, 512)           2048      \n",
            "_________________________________________________________________\n",
            "re_lu_4 (ReLU)               (None, 40, 512)           0         \n",
            "_________________________________________________________________\n",
            "conv1d_5 (Conv1D)            (None, 40, 512)           1311232   \n",
            "_________________________________________________________________\n",
            "batch_normalization_5 (Batch (None, 40, 512)           2048      \n",
            "_________________________________________________________________\n",
            "re_lu_5 (ReLU)               (None, 40, 512)           0         \n",
            "_________________________________________________________________\n",
            "max_pooling1d_2 (MaxPooling1 (None, 20, 512)           0         \n",
            "_________________________________________________________________\n",
            "conv1d_6 (Conv1D)            (None, 20, 256)           655616    \n",
            "_________________________________________________________________\n",
            "batch_normalization_6 (Batch (None, 20, 256)           1024      \n",
            "_________________________________________________________________\n",
            "re_lu_6 (ReLU)               (None, 20, 256)           0         \n",
            "_________________________________________________________________\n",
            "conv1d_7 (Conv1D)            (None, 20, 256)           327936    \n",
            "_________________________________________________________________\n",
            "batch_normalization_7 (Batch (None, 20, 256)           1024      \n",
            "_________________________________________________________________\n",
            "re_lu_7 (ReLU)               (None, 20, 256)           0         \n",
            "_________________________________________________________________\n",
            "max_pooling1d_3 (MaxPooling1 (None, 10, 256)           0         \n",
            "_________________________________________________________________\n",
            "gru_2 (GRU)                  (None, 10, 256)           394752    \n",
            "_________________________________________________________________\n",
            "dropout_4 (Dropout)          (None, 10, 256)           0         \n",
            "_________________________________________________________________\n",
            "gru_3 (GRU)                  (None, 128)               148224    \n",
            "_________________________________________________________________\n",
            "dropout_5 (Dropout)          (None, 128)               0         \n",
            "_________________________________________________________________\n",
            "dense_4 (Dense)              (None, 256)               33024     \n",
            "_________________________________________________________________\n",
            "dropout_6 (Dropout)          (None, 256)               0         \n",
            "_________________________________________________________________\n",
            "dense_5 (Dense)              (None, 128)               32896     \n",
            "_________________________________________________________________\n",
            "dropout_7 (Dropout)          (None, 128)               0         \n",
            "_________________________________________________________________\n",
            "dense_6 (Dense)              (None, 64)                8256      \n",
            "_________________________________________________________________\n",
            "dense_7 (Dense)              (None, 1)                 65        \n",
            "=================================================================\n",
            "Total params: 6,140,357\n",
            "Trainable params: 3,171,585\n",
            "Non-trainable params: 2,968,772\n",
            "_________________________________________________________________\n"
          ],
          "name": "stdout"
        }
      ]
    },
    {
      "cell_type": "code",
      "metadata": {
        "id": "fISfLO47kryv",
        "outputId": "40e14a71-d133-4b29-e9b6-55539b63990c",
        "colab": {
          "base_uri": "https://localhost:8080/",
          "height": 370
        }
      },
      "source": [
        "#Converting the data into numpy arrays\n",
        "test_sequences = np.array(test_sequences)\n",
        "training_sequences = np.array(training_sequences)\n",
        "test_labels = np.array(test_labels)\n",
        "training_labels = np.array(training_labels)\n",
        "\n",
        "#Fitting the model for 10 epochs\n",
        "history = model.fit(training_sequences, training_labels, epochs=10, validation_data=(test_sequences, test_labels), verbose=2)\n",
        "\n",
        "print(\"Training Complete\")"
      ],
      "execution_count": 14,
      "outputs": [
        {
          "output_type": "stream",
          "text": [
            "Epoch 1/10\n",
            "668/668 - 9s - loss: 0.0385 - accuracy: 0.9884 - val_loss: 0.5989 - val_accuracy: 0.8482\n",
            "Epoch 2/10\n",
            "668/668 - 9s - loss: 0.0276 - accuracy: 0.9912 - val_loss: 0.9959 - val_accuracy: 0.8178\n",
            "Epoch 3/10\n",
            "668/668 - 9s - loss: 0.0300 - accuracy: 0.9904 - val_loss: 0.8137 - val_accuracy: 0.8111\n",
            "Epoch 4/10\n",
            "668/668 - 9s - loss: 0.0244 - accuracy: 0.9921 - val_loss: 0.9134 - val_accuracy: 0.8184\n",
            "Epoch 5/10\n",
            "668/668 - 9s - loss: 0.0244 - accuracy: 0.9930 - val_loss: 0.7791 - val_accuracy: 0.8307\n",
            "Epoch 6/10\n",
            "668/668 - 9s - loss: 0.0261 - accuracy: 0.9920 - val_loss: 0.7792 - val_accuracy: 0.8416\n",
            "Epoch 7/10\n",
            "668/668 - 9s - loss: 0.0214 - accuracy: 0.9931 - val_loss: 0.6063 - val_accuracy: 0.8525\n",
            "Epoch 8/10\n",
            "668/668 - 9s - loss: 0.0229 - accuracy: 0.9928 - val_loss: 0.7739 - val_accuracy: 0.8564\n",
            "Epoch 9/10\n",
            "668/668 - 9s - loss: 0.0229 - accuracy: 0.9932 - val_loss: 0.6787 - val_accuracy: 0.8420\n",
            "Epoch 10/10\n",
            "668/668 - 9s - loss: 0.0206 - accuracy: 0.9935 - val_loss: 0.6041 - val_accuracy: 0.8575\n",
            "Training Complete\n"
          ],
          "name": "stdout"
        }
      ]
    },
    {
      "cell_type": "code",
      "metadata": {
        "id": "lesc0dmrOyak",
        "outputId": "177d35bc-6bb8-46a3-a38d-8fbe9e9af474",
        "colab": {
          "base_uri": "https://localhost:8080/",
          "height": 606
        }
      },
      "source": [
        "import matplotlib.pyplot as plt\n",
        "\n",
        "#Extracting the loss and accuracy for training and validation\n",
        "\n",
        "acc=history.history['accuracy']\n",
        "val_acc=history.history['val_accuracy']\n",
        "loss=history.history['loss']\n",
        "val_loss=history.history['val_loss']\n",
        "\n",
        "#Number of epochs\n",
        "epochs=range(len(acc)) \n",
        "\n",
        "#Plotting training and validation accuracy vs. epochs\n",
        "\n",
        "plt.plot(epochs, acc, 'r')\n",
        "plt.plot(epochs, val_acc, 'b')\n",
        "plt.title('Training and validation accuracy')\n",
        "plt.xlabel(\"Epochs\")\n",
        "plt.ylabel(\"Accuracy\")\n",
        "plt.legend([\"Accuracy\", \"Validation Accuracy\"])\n",
        "\n",
        "plt.figure()\n",
        "\n",
        "#Plotting training and validation loss vs. epochs\n",
        "\n",
        "plt.plot(epochs, loss, 'r')\n",
        "plt.plot(epochs, val_loss, 'b')\n",
        "plt.title('Training and validation loss')\n",
        "plt.xlabel(\"Epochs\")\n",
        "plt.ylabel(\"Loss\")\n",
        "plt.legend([\"Loss\", \"Validation Loss\"])\n",
        "\n",
        "plt.figure()"
      ],
      "execution_count": 15,
      "outputs": [
        {
          "output_type": "execute_result",
          "data": {
            "text/plain": [
              "<Figure size 432x288 with 0 Axes>"
            ]
          },
          "metadata": {
            "tags": []
          },
          "execution_count": 15
        },
        {
          "output_type": "display_data",
          "data": {
            "image/png": "[encoded data removed]",
            "text/plain": [
              "<Figure size 432x288 with 1 Axes>"
            ]
          },
          "metadata": {
            "tags": [],
            "needs_background": "light"
          }
        },
        {
          "output_type": "display_data",
          "data": {
            "image/png": "[encoded data removed]",
            "text/plain": [
              "<Figure size 432x288 with 1 Axes>"
            ]
          },
          "metadata": {
            "tags": [],
            "needs_background": "light"
          }
        },
        {
          "output_type": "display_data",
          "data": {
            "text/plain": [
              "<Figure size 432x288 with 0 Axes>"
            ]
          },
          "metadata": {
            "tags": []
          }
        }
      ]
    }
  ]
}